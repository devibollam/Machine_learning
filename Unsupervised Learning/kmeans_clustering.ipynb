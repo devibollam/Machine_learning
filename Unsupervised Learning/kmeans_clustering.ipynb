{
 "cells": [
  {
   "cell_type": "markdown",
   "id": "6d6810c4",
   "metadata": {},
   "source": [
    "# K-Means Clustering\n",
    "This notebook demonstrates the K-Means clustering algorithm using Python and scikit-learn."
   ]
  },
  {
   "cell_type": "code",
   "execution_count": null,
   "id": "a7a1e699",
   "metadata": {},
   "outputs": [],
   "source": [
    "\n",
    "import numpy as np\n",
    "import matplotlib.pyplot as plt\n",
    "import seaborn as sns\n",
    "from sklearn.cluster import KMeans\n",
    "from sklearn.datasets import make_blobs\n",
    "\n",
    "# Generate Sample Dataset\n",
    "np.random.seed(42)\n",
    "X, _ = make_blobs(n_samples=200, centers=3, cluster_std=1.5, random_state=42)  # 3 Clusters\n",
    "\n",
    "# Initialize and Train K-Means Model\n",
    "k = 3  # Number of clusters\n",
    "model = KMeans(n_clusters=k, random_state=42, n_init=10)\n",
    "model.fit(X)\n",
    "\n",
    "# Get Cluster Assignments\n",
    "labels = model.labels_\n",
    "centroids = model.cluster_centers_\n",
    "\n",
    "# Visualizing the Clusters\n",
    "plt.figure(figsize=(8, 6))\n",
    "sns.scatterplot(x=X[:, 0], y=X[:, 1], hue=labels, palette=\"coolwarm\", edgecolor=\"k\", legend=False)\n",
    "plt.scatter(centroids[:, 0], centroids[:, 1], c='black', marker='X', s=200, label=\"Centroids\")\n",
    "plt.title(\"K-Means Clustering\")\n",
    "plt.xlabel(\"Feature 1\")\n",
    "plt.ylabel(\"Feature 2\")\n",
    "plt.legend()\n",
    "plt.show()\n"
   ]
  },
  {
   "cell_type": "markdown",
   "id": "bc9a6fce",
   "metadata": {},
   "source": [
    "## Conclusion\n",
    "This notebook demonstrates how to implement K-Means clustering, train the model, and visualize the clusters."
   ]
  }
 ],
 "metadata": {},
 "nbformat": 4,
 "nbformat_minor": 5
}
