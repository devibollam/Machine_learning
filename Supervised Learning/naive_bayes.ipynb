{
 "cells": [
  {
   "cell_type": "markdown",
   "id": "f4d4c09e",
   "metadata": {},
   "source": [
    "# Naïve Bayes Classification\n",
    "This notebook demonstrates the Naïve Bayes classification algorithm using Python and scikit-learn."
   ]
  },
  {
   "cell_type": "code",
   "execution_count": null,
   "id": "22524fbd",
   "metadata": {},
   "outputs": [],
   "source": [
    "\n",
    "import numpy as np\n",
    "import matplotlib.pyplot as plt\n",
    "import seaborn as sns\n",
    "from sklearn.model_selection import train_test_split\n",
    "from sklearn.naive_bayes import GaussianNB\n",
    "from sklearn.metrics import accuracy_score, confusion_matrix, classification_report\n",
    "\n",
    "# Generate Sample Dataset (Binary Classification)\n",
    "np.random.seed(42)\n",
    "X = np.random.rand(100, 2) * 10  # Two features (Random values between 0 and 10)\n",
    "y = (X[:, 0] + X[:, 1] > 10).astype(int)  # Target: 1 if sum of features > 10, else 0\n",
    "\n",
    "# Splitting Data (80% Training, 20% Testing)\n",
    "X_train, X_test, y_train, y_test = train_test_split(X, y, test_size=0.2, random_state=42)\n",
    "\n",
    "# Initialize and Train Naïve Bayes Model\n",
    "model = GaussianNB()\n",
    "model.fit(X_train, y_train)\n",
    "\n",
    "# Make Predictions\n",
    "y_pred = model.predict(X_test)\n",
    "\n",
    "# Model Evaluation\n",
    "accuracy = accuracy_score(y_test, y_pred)\n",
    "conf_matrix = confusion_matrix(y_test, y_pred)\n",
    "class_report = classification_report(y_test, y_pred)\n",
    "\n",
    "print(f\"Accuracy: {accuracy:.2f}\")\n",
    "print(\"Confusion Matrix:\")\n",
    "print(conf_matrix)\n",
    "print(\"Classification Report:\")\n",
    "print(class_report)\n",
    "\n",
    "# Visualization\n",
    "plt.figure(figsize=(8, 6))\n",
    "sns.scatterplot(x=X[:, 0], y=X[:, 1], hue=y, palette=\"coolwarm\", edgecolor=\"k\", label=\"Actual Data\")\n",
    "plt.title(\"Naïve Bayes Classification\")\n",
    "plt.xlabel(\"Feature 1\")\n",
    "plt.ylabel(\"Feature 2\")\n",
    "plt.legend()\n",
    "plt.show()\n"
   ]
  },
  {
   "cell_type": "markdown",
   "id": "86e66cbf",
   "metadata": {},
   "source": [
    "## Conclusion\n",
    "This notebook demonstrates how to implement a Naïve Bayes classifier, evaluate model performance, and visualize the results."
   ]
  }
 ],
 "metadata": {},
 "nbformat": 4,
 "nbformat_minor": 5
}
