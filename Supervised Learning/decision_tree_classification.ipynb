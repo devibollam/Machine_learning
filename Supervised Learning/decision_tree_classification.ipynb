{
 "cells": [
  {
   "cell_type": "markdown",
   "id": "5a4349ae",
   "metadata": {},
   "source": [
    "# Decision Tree Classification\n",
    "This notebook demonstrates the Decision Tree classification algorithm using Python and scikit-learn."
   ]
  },
  {
   "cell_type": "code",
   "execution_count": null,
   "id": "595c8f2a",
   "metadata": {},
   "outputs": [],
   "source": [
    "\n",
    "import numpy as np\n",
    "import matplotlib.pyplot as plt\n",
    "import seaborn as sns\n",
    "from sklearn.model_selection import train_test_split\n",
    "from sklearn.tree import DecisionTreeClassifier\n",
    "from sklearn.metrics import accuracy_score, confusion_matrix, classification_report\n",
    "from sklearn import tree\n",
    "\n",
    "# Generate Sample Dataset (Binary Classification)\n",
    "np.random.seed(42)\n",
    "X = np.random.rand(100, 2) * 10  # Two features (Random values between 0 and 10)\n",
    "y = (X[:, 0] + X[:, 1] > 10).astype(int)  # Target: 1 if sum of features > 10, else 0\n",
    "\n",
    "# Splitting Data (80% Training, 20% Testing)\n",
    "X_train, X_test, y_train, y_test = train_test_split(X, y, test_size=0.2, random_state=42)\n",
    "\n",
    "# Initialize and Train Decision Tree Model\n",
    "model = DecisionTreeClassifier(random_state=42)\n",
    "model.fit(X_train, y_train)\n",
    "\n",
    "# Make Predictions\n",
    "y_pred = model.predict(X_test)\n",
    "\n",
    "# Model Evaluation\n",
    "accuracy = accuracy_score(y_test, y_pred)\n",
    "conf_matrix = confusion_matrix(y_test, y_pred)\n",
    "class_report = classification_report(y_test, y_pred)\n",
    "\n",
    "print(f\"Accuracy: {accuracy:.2f}\")\n",
    "print(\"Confusion Matrix:\")\n",
    "print(conf_matrix)\n",
    "print(\"Classification Report:\")\n",
    "print(class_report)\n",
    "\n",
    "# Visualize Decision Tree\n",
    "plt.figure(figsize=(12, 6))\n",
    "tree.plot_tree(model, filled=True, feature_names=[\"Feature 1\", \"Feature 2\"], class_names=[\"Class 0\", \"Class 1\"])\n",
    "plt.title(\"Decision Tree Visualization\")\n",
    "plt.show()\n",
    "\n",
    "# Scatter Plot\n",
    "plt.figure(figsize=(8, 6))\n",
    "sns.scatterplot(x=X[:, 0], y=X[:, 1], hue=y, palette=\"coolwarm\", edgecolor=\"k\", legend=False)\n",
    "plt.title(\"Decision Tree Classification\")\n",
    "plt.xlabel(\"Feature 1\")\n",
    "plt.ylabel(\"Feature 2\")\n",
    "plt.show()\n"
   ]
  },
  {
   "cell_type": "markdown",
   "id": "0e054915",
   "metadata": {},
   "source": [
    "## Conclusion\n",
    "This notebook demonstrates how to implement a Decision Tree classifier, evaluate model performance, and visualize the results."
   ]
  }
 ],
 "metadata": {},
 "nbformat": 4,
 "nbformat_minor": 5
}
