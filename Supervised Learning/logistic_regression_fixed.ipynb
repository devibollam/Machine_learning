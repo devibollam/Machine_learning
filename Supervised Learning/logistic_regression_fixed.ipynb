{
 "cells": [
  {
   "cell_type": "markdown",
   "id": "f3a0e8d8",
   "metadata": {},
   "source": [
    "# Logistic Regression Model\n",
    "This notebook demonstrates a simple Logistic Regression model using Python and scikit-learn."
   ]
  },
  {
   "cell_type": "code",
   "execution_count": null,
   "id": "53f6f610",
   "metadata": {},
   "outputs": [],
   "source": [
    "\n",
    "import numpy as np\n",
    "import matplotlib.pyplot as plt\n",
    "import seaborn as sns\n",
    "from sklearn.model_selection import train_test_split\n",
    "from sklearn.linear_model import LogisticRegression\n",
    "from sklearn.metrics import accuracy_score, confusion_matrix, classification_report\n",
    "\n",
    "# Generate Sample Dataset (Binary Classification)\n",
    "np.random.seed(42)\n",
    "X = np.random.rand(100, 1) * 10  # Feature: Random values between 0 and 10\n",
    "y = (X > 5).astype(int).ravel()  # Target: 1 if X > 5, else 0\n",
    "\n",
    "# Splitting Data (80% Training, 20% Testing)\n",
    "X_train, X_test, y_train, y_test = train_test_split(X, y, test_size=0.2, random_state=42)\n",
    "\n",
    "# Initialize and Train Logistic Regression Model\n",
    "model = LogisticRegression()\n",
    "model.fit(X_train, y_train)\n",
    "\n",
    "# Make Predictions\n",
    "y_pred = model.predict(X_test)\n",
    "\n",
    "# Model Evaluation\n",
    "accuracy = accuracy_score(y_test, y_pred)\n",
    "conf_matrix = confusion_matrix(y_test, y_pred)\n",
    "class_report = classification_report(y_test, y_pred)\n",
    "\n",
    "print(f\"Accuracy: {accuracy:.2f}\")\n",
    "print(\"Confusion Matrix:\")\n",
    "print(conf_matrix)\n",
    "print(\"Classification Report:\")\n",
    "print(class_report)\n",
    "\n",
    "# Visualization\n",
    "plt.figure(figsize=(8, 5))\n",
    "sns.scatterplot(x=X.ravel(), y=y, color='blue', label=\"Actual Data\")\n",
    "plt.plot(X, model.predict_proba(X)[:, 1], color='red', linewidth=2, label=\"Logistic Regression Curve\")\n",
    "plt.xlabel(\"Feature Value\")\n",
    "plt.ylabel(\"Probability of Class 1\")\n",
    "plt.legend()\n",
    "plt.title(\"Logistic Regression Model\")\n",
    "plt.show()\n"
   ]
  },
  {
   "cell_type": "markdown",
   "id": "9d547f4f",
   "metadata": {},
   "source": [
    "## Conclusion\n",
    "This notebook demonstrates how to implement a logistic regression model, visualize the decision boundary, and evaluate model performance using accuracy and confusion matrix."
   ]
  }
 ],
 "metadata": {},
 "nbformat": 4,
 "nbformat_minor": 5
}
